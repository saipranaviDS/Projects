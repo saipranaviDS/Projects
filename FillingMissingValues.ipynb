{
 "cells": [
  {
   "cell_type": "code",
   "execution_count": 147,
   "metadata": {},
   "outputs": [
    {
     "name": "stdout",
     "output_type": "stream",
     "text": [
      "Index(['Unnamed: 0', 'BOROUGH', 'NEIGHBORHOOD', 'BUILDING CLASS CATEGORY',\n",
      "       'TAX CLASS AT PRESENT', 'BLOCK', 'LOT', 'EASE-MENT',\n",
      "       'BUILDING CLASS AT PRESENT', 'ADDRESS', 'APARTMENT NUMBER', 'ZIP CODE',\n",
      "       'RESIDENTIAL UNITS', 'COMMERCIAL UNITS', 'TOTAL UNITS',\n",
      "       'LAND SQUARE FEET', 'GROSS SQUARE FEET', 'YEAR BUILT',\n",
      "       'TAX CLASS AT TIME OF SALE', 'BUILDING CLASS AT TIME OF SALE',\n",
      "       'SALE PRICE', 'SALE DATE'],\n",
      "      dtype='object')\n"
     ]
    }
   ],
   "source": [
    "import numpy as np\n",
    "import pandas as pd\n",
    "# Plotting graphs\n",
    "import matplotlib.pyplot as plt\n",
    "import seaborn as sns\n",
    "from sklearn import metrics\n",
    "\n",
    "\n",
    "\n",
    "# CSV File - Read\n",
    "df = pd.read_csv('D:\\\\SageIT-DS\\\\nyc-rolling-sales.csv')\n",
    "#  ,header=None ,skiprows=1 , names=['Cal', 'Pr', 'Fat', 'sod', 'Fib', 'Rting']\n",
    "\n",
    "\n",
    "print(df.columns)\n"
   ]
  },
  {
   "cell_type": "code",
   "execution_count": 148,
   "metadata": {},
   "outputs": [],
   "source": [
    "\n",
    "df1 = df.replace('-', np.nan , regex = True)"
   ]
  },
  {
   "cell_type": "code",
   "execution_count": 149,
   "metadata": {},
   "outputs": [],
   "source": [
    "df1[\"SALE PRICE\"]=df1[\"SALE PRICE\"].astype(float)"
   ]
  },
  {
   "cell_type": "code",
   "execution_count": 150,
   "metadata": {},
   "outputs": [
    {
     "data": {
      "text/plain": [
       "Unnamed: 0                            0\n",
       "BOROUGH                               0\n",
       "NEIGHBORHOOD                      19371\n",
       "BUILDING CLASS CATEGORY           36244\n",
       "TAX CLASS AT PRESENT                  0\n",
       "BLOCK                                 0\n",
       "LOT                                   0\n",
       "EASE-MENT                             0\n",
       "BUILDING CLASS AT PRESENT             0\n",
       "ADDRESS                           24744\n",
       "APARTMENT NUMBER                    808\n",
       "ZIP CODE                              0\n",
       "RESIDENTIAL UNITS                     0\n",
       "COMMERCIAL UNITS                      0\n",
       "TOTAL UNITS                           0\n",
       "LAND SQUARE FEET                  26252\n",
       "GROSS SQUARE FEET                 27612\n",
       "YEAR BUILT                            0\n",
       "TAX CLASS AT TIME OF SALE             0\n",
       "BUILDING CLASS AT TIME OF SALE        0\n",
       "SALE PRICE                        14561\n",
       "SALE DATE                         84548\n",
       "dtype: int64"
      ]
     },
     "execution_count": 150,
     "metadata": {},
     "output_type": "execute_result"
    }
   ],
   "source": [
    "df1.isnull().sum()"
   ]
  },
  {
   "cell_type": "code",
   "execution_count": 151,
   "metadata": {},
   "outputs": [
    {
     "data": {
      "text/plain": [
       "TAX CLASS AT TIME OF SALE\n",
       "1    485000.0\n",
       "2    640219.0\n",
       "3         0.0\n",
       "4     99800.0\n",
       "Name: SALE PRICE, dtype: float64"
      ]
     },
     "execution_count": 151,
     "metadata": {},
     "output_type": "execute_result"
    }
   ],
   "source": [
    "df1.groupby(df1['TAX CLASS AT TIME OF SALE'])['SALE PRICE'].median()"
   ]
  },
  {
   "cell_type": "code",
   "execution_count": 152,
   "metadata": {},
   "outputs": [
    {
     "data": {
      "text/html": [
       "<div>\n",
       "<style scoped>\n",
       "    .dataframe tbody tr th:only-of-type {\n",
       "        vertical-align: middle;\n",
       "    }\n",
       "\n",
       "    .dataframe tbody tr th {\n",
       "        vertical-align: top;\n",
       "    }\n",
       "\n",
       "    .dataframe thead th {\n",
       "        text-align: right;\n",
       "    }\n",
       "</style>\n",
       "<table border=\"1\" class=\"dataframe\">\n",
       "  <thead>\n",
       "    <tr style=\"text-align: right;\">\n",
       "      <th>TAX CLASS AT TIME OF SALE</th>\n",
       "      <th>1</th>\n",
       "      <th>2</th>\n",
       "      <th>3</th>\n",
       "      <th>4</th>\n",
       "    </tr>\n",
       "    <tr>\n",
       "      <th>SALE PRICE</th>\n",
       "      <th></th>\n",
       "      <th></th>\n",
       "      <th></th>\n",
       "      <th></th>\n",
       "    </tr>\n",
       "  </thead>\n",
       "  <tbody>\n",
       "    <tr>\n",
       "      <th>False</th>\n",
       "      <td>33569</td>\n",
       "      <td>32161</td>\n",
       "      <td>2</td>\n",
       "      <td>4255</td>\n",
       "    </tr>\n",
       "    <tr>\n",
       "      <th>True</th>\n",
       "      <td>7964</td>\n",
       "      <td>4565</td>\n",
       "      <td>2</td>\n",
       "      <td>2030</td>\n",
       "    </tr>\n",
       "  </tbody>\n",
       "</table>\n",
       "</div>"
      ],
      "text/plain": [
       "TAX CLASS AT TIME OF SALE      1      2  3     4\n",
       "SALE PRICE                                      \n",
       "False                      33569  32161  2  4255\n",
       "True                        7964   4565  2  2030"
      ]
     },
     "execution_count": 152,
     "metadata": {},
     "output_type": "execute_result"
    }
   ],
   "source": [
    "pd.crosstab( df1['SALE PRICE'].isnull(), df1['TAX CLASS AT TIME OF SALE'])"
   ]
  },
  {
   "cell_type": "code",
   "execution_count": 153,
   "metadata": {},
   "outputs": [
    {
     "data": {
      "text/plain": [
       "BUILDING CLASS AT TIME OF SALE\n",
       "A0      670000.0\n",
       "A1      495000.0\n",
       "A2      499000.0\n",
       "A3     1115000.0\n",
       "A4     1200625.0\n",
       "A5      445000.0\n",
       "A6      221883.0\n",
       "A7     5375000.0\n",
       "A9      445000.0\n",
       "B1      500000.0\n",
       "B2      580000.0\n",
       "B3      540000.0\n",
       "B9      500000.0\n",
       "C0      500000.0\n",
       "C1     1212500.0\n",
       "C2      700000.0\n",
       "C3      475000.0\n",
       "C4     3705000.0\n",
       "C5     1400000.0\n",
       "C6      283000.0\n",
       "C7     4400000.0\n",
       "C8     1500000.0\n",
       "C9     1100000.0\n",
       "CM       90000.0\n",
       "D0     1480000.0\n",
       "D1     7950000.0\n",
       "D2     2550000.0\n",
       "D3    13600000.0\n",
       "D4      409128.5\n",
       "D5           0.0\n",
       "         ...    \n",
       "S0           0.0\n",
       "S1      451000.0\n",
       "S2      550000.0\n",
       "S3      575000.0\n",
       "S4      700000.0\n",
       "S5      440000.0\n",
       "S9      750000.0\n",
       "T2      110000.0\n",
       "U1           0.0\n",
       "U6           NaN\n",
       "V0      100000.0\n",
       "V1      150000.0\n",
       "V2      225000.0\n",
       "V3         250.0\n",
       "V6           0.0\n",
       "V9      725000.0\n",
       "W1           1.0\n",
       "W2           0.0\n",
       "W3      590000.0\n",
       "W4     4787500.0\n",
       "W6           0.0\n",
       "W8      487505.0\n",
       "W9      675000.0\n",
       "Y1           1.0\n",
       "Y3    16000000.0\n",
       "Z0      182500.0\n",
       "Z2           0.0\n",
       "Z3           NaN\n",
       "Z7           NaN\n",
       "Z9           0.0\n",
       "Name: SALE PRICE, Length: 166, dtype: float64"
      ]
     },
     "execution_count": 153,
     "metadata": {},
     "output_type": "execute_result"
    }
   ],
   "source": [
    "df1.groupby(df1['BUILDING CLASS AT TIME OF SALE'])['SALE PRICE'].median()"
   ]
  },
  {
   "cell_type": "code",
   "execution_count": 169,
   "metadata": {},
   "outputs": [
    {
     "data": {
      "text/html": [
       "<div>\n",
       "<style scoped>\n",
       "    .dataframe tbody tr th:only-of-type {\n",
       "        vertical-align: middle;\n",
       "    }\n",
       "\n",
       "    .dataframe tbody tr th {\n",
       "        vertical-align: top;\n",
       "    }\n",
       "\n",
       "    .dataframe thead th {\n",
       "        text-align: right;\n",
       "    }\n",
       "</style>\n",
       "<table border=\"1\" class=\"dataframe\">\n",
       "  <thead>\n",
       "    <tr style=\"text-align: right;\">\n",
       "      <th>BUILDING CLASS AT TIME OF SALE</th>\n",
       "      <th>A0</th>\n",
       "      <th>A1</th>\n",
       "      <th>A2</th>\n",
       "      <th>A3</th>\n",
       "      <th>A4</th>\n",
       "      <th>A5</th>\n",
       "      <th>A6</th>\n",
       "      <th>A7</th>\n",
       "      <th>A9</th>\n",
       "      <th>B1</th>\n",
       "      <th>...</th>\n",
       "      <th>W6</th>\n",
       "      <th>W8</th>\n",
       "      <th>W9</th>\n",
       "      <th>Y1</th>\n",
       "      <th>Y3</th>\n",
       "      <th>Z0</th>\n",
       "      <th>Z2</th>\n",
       "      <th>Z3</th>\n",
       "      <th>Z7</th>\n",
       "      <th>Z9</th>\n",
       "    </tr>\n",
       "    <tr>\n",
       "      <th>SALE PRICE</th>\n",
       "      <th></th>\n",
       "      <th></th>\n",
       "      <th></th>\n",
       "      <th></th>\n",
       "      <th></th>\n",
       "      <th></th>\n",
       "      <th></th>\n",
       "      <th></th>\n",
       "      <th></th>\n",
       "      <th></th>\n",
       "      <th></th>\n",
       "      <th></th>\n",
       "      <th></th>\n",
       "      <th></th>\n",
       "      <th></th>\n",
       "      <th></th>\n",
       "      <th></th>\n",
       "      <th></th>\n",
       "      <th></th>\n",
       "      <th></th>\n",
       "      <th></th>\n",
       "    </tr>\n",
       "  </thead>\n",
       "  <tbody>\n",
       "    <tr>\n",
       "      <th>False</th>\n",
       "      <td>285</td>\n",
       "      <td>5261</td>\n",
       "      <td>2103</td>\n",
       "      <td>284</td>\n",
       "      <td>210</td>\n",
       "      <td>4646</td>\n",
       "      <td>78</td>\n",
       "      <td>11</td>\n",
       "      <td>1277</td>\n",
       "      <td>4063</td>\n",
       "      <td>...</td>\n",
       "      <td>1</td>\n",
       "      <td>2</td>\n",
       "      <td>14</td>\n",
       "      <td>1</td>\n",
       "      <td>1</td>\n",
       "      <td>10</td>\n",
       "      <td>3</td>\n",
       "      <td>0</td>\n",
       "      <td>0</td>\n",
       "      <td>133</td>\n",
       "    </tr>\n",
       "    <tr>\n",
       "      <th>True</th>\n",
       "      <td>144</td>\n",
       "      <td>1490</td>\n",
       "      <td>764</td>\n",
       "      <td>104</td>\n",
       "      <td>24</td>\n",
       "      <td>1025</td>\n",
       "      <td>14</td>\n",
       "      <td>5</td>\n",
       "      <td>137</td>\n",
       "      <td>684</td>\n",
       "      <td>...</td>\n",
       "      <td>1</td>\n",
       "      <td>4</td>\n",
       "      <td>10</td>\n",
       "      <td>0</td>\n",
       "      <td>0</td>\n",
       "      <td>6</td>\n",
       "      <td>1</td>\n",
       "      <td>2</td>\n",
       "      <td>1</td>\n",
       "      <td>18</td>\n",
       "    </tr>\n",
       "  </tbody>\n",
       "</table>\n",
       "<p>2 rows × 166 columns</p>\n",
       "</div>"
      ],
      "text/plain": [
       "BUILDING CLASS AT TIME OF SALE   A0    A1    A2   A3   A4    A5  A6  A7    A9  \\\n",
       "SALE PRICE                                                                      \n",
       "False                           285  5261  2103  284  210  4646  78  11  1277   \n",
       "True                            144  1490   764  104   24  1025  14   5   137   \n",
       "\n",
       "BUILDING CLASS AT TIME OF SALE    B1  ...  W6  W8  W9  Y1  Y3  Z0  Z2  Z3  Z7  \\\n",
       "SALE PRICE                            ...                                       \n",
       "False                           4063  ...   1   2  14   1   1  10   3   0   0   \n",
       "True                             684  ...   1   4  10   0   0   6   1   2   1   \n",
       "\n",
       "BUILDING CLASS AT TIME OF SALE   Z9  \n",
       "SALE PRICE                           \n",
       "False                           133  \n",
       "True                             18  \n",
       "\n",
       "[2 rows x 166 columns]"
      ]
     },
     "execution_count": 169,
     "metadata": {},
     "output_type": "execute_result"
    }
   ],
   "source": [
    "pd.crosstab( df1['SALE PRICE'].isnull(), df1['BUILDING CLASS AT TIME OF SALE'])"
   ]
  },
  {
   "cell_type": "code",
   "execution_count": 171,
   "metadata": {},
   "outputs": [
    {
     "name": "stderr",
     "output_type": "stream",
     "text": [
      "C:\\Users\\pranavi\\Anaconda3\\lib\\site-packages\\ipykernel_launcher.py:1: SettingWithCopyWarning: \n",
      "A value is trying to be set on a copy of a slice from a DataFrame\n",
      "\n",
      "See the caveats in the documentation: http://pandas.pydata.org/pandas-docs/stable/indexing.html#indexing-view-versus-copy\n",
      "  \"\"\"Entry point for launching an IPython kernel.\n"
     ]
    }
   ],
   "source": [
    "df1['SALE PRICE'][(df1['SALE PRICE'].isnull())] = 485000"
   ]
  },
  {
   "cell_type": "code",
   "execution_count": 172,
   "metadata": {},
   "outputs": [
    {
     "data": {
      "text/plain": [
       "0    6625000.0\n",
       "1     485000.0\n",
       "2     485000.0\n",
       "3    3936272.0\n",
       "4    8000000.0\n",
       "Name: SALE PRICE, dtype: float64"
      ]
     },
     "execution_count": 172,
     "metadata": {},
     "output_type": "execute_result"
    }
   ],
   "source": [
    "df1['SALE PRICE'].head()"
   ]
  },
  {
   "cell_type": "markdown",
   "metadata": {},
   "source": [
    "After checking with 'BUILDING CLASS AT TIME OF SALE' and 'TAX CLASS AT TIME OF SALE' I found the appropriate value to be filled is median of group 1 from 'TAX CLASS AT TIME OF SALE'\n"
   ]
  },
  {
   "cell_type": "code",
   "execution_count": null,
   "metadata": {},
   "outputs": [],
   "source": []
  },
  {
   "cell_type": "code",
   "execution_count": null,
   "metadata": {},
   "outputs": [],
   "source": []
  },
  {
   "cell_type": "code",
   "execution_count": null,
   "metadata": {},
   "outputs": [],
   "source": []
  },
  {
   "cell_type": "code",
   "execution_count": null,
   "metadata": {},
   "outputs": [],
   "source": []
  },
  {
   "cell_type": "code",
   "execution_count": null,
   "metadata": {},
   "outputs": [],
   "source": []
  }
 ],
 "metadata": {
  "kernelspec": {
   "display_name": "Python 3",
   "language": "python",
   "name": "python3"
  },
  "language_info": {
   "codemirror_mode": {
    "name": "ipython",
    "version": 3
   },
   "file_extension": ".py",
   "mimetype": "text/x-python",
   "name": "python",
   "nbconvert_exporter": "python",
   "pygments_lexer": "ipython3",
   "version": "3.7.3"
  }
 },
 "nbformat": 4,
 "nbformat_minor": 2
}
